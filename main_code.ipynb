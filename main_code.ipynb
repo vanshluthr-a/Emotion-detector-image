{
 "cells": [
  {
   "cell_type": "code",
   "execution_count": 1,
   "id": "6e568911-f17c-4422-9d72-2802c94c8779",
   "metadata": {},
   "outputs": [],
   "source": [
    "from keras.utils import to_categorical\n",
    "from keras_preprocessing.image import load_img\n",
    "from keras.models import Sequential \n",
    "from keras.layers import Dense,Conv2D,Dropout,Flatten,MaxPooling2D\n",
    "import os \n",
    "import pandas as pd \n",
    "import numpy as np "
   ]
  },
  {
   "cell_type": "code",
   "execution_count": null,
   "id": "c66e94f1-a3a7-4e7a-bbf1-26e042261c60",
   "metadata": {},
   "outputs": [],
   "source": [
    "TRAIN_DIR='images/train'\n",
    "Test_dir='images/test'\n",
    "\n"
   ]
  },
  {
   "cell_type": "code",
   "execution_count": 3,
   "id": "5fd72471-23cd-4c04-aa77-05d8ed923e04",
   "metadata": {},
   "outputs": [
    {
     "data": {
      "text/plain": [
       "'def createdataframe(dir):\\n    images_paths =[]\\n    labels =[]\\n    for labels in os.listdir(dir):\\n        for imagename in os.listdir(os.path.join(dir,label)):\\n            image_paths.append(os.path.join(dir,label,imagename))\\n            labels.append(label)\\n        print(label,\"completed\")\\n    return image_paths,labels\\n    '"
      ]
     },
     "execution_count": 3,
     "metadata": {},
     "output_type": "execute_result"
    }
   ],
   "source": [
    "'''def createdataframe(dir):\n",
    "    images_paths =[]\n",
    "    labels =[]\n",
    "    for labels in os.listdir(dir):\n",
    "        for imagename in os.listdir(os.path.join(dir,label)):\n",
    "            image_paths.append(os.path.join(dir,label,imagename))\n",
    "            labels.append(label)\n",
    "        print(label,\"completed\")\n",
    "    return image_paths,labels\n",
    "    '''"
   ]
  },
  {
   "cell_type": "code",
   "execution_count": 4,
   "id": "7e50130c-c13b-4f8f-97f5-4cc361a1f99b",
   "metadata": {},
   "outputs": [
    {
     "name": "stdout",
     "output_type": "stream",
     "text": [
      "Train directory exists: True\n",
      "Test directory exists: True\n",
      "                                               image               label\n",
      "0  C:\\Users\\Vansh\\OneDrive\\Desktop\\visual stodio\\...  .ipynb_checkpoints\n",
      "1  C:\\Users\\Vansh\\OneDrive\\Desktop\\visual stodio\\...  .ipynb_checkpoints\n",
      "2  C:\\Users\\Vansh\\OneDrive\\Desktop\\visual stodio\\...  .ipynb_checkpoints\n",
      "3  C:\\Users\\Vansh\\OneDrive\\Desktop\\visual stodio\\...         archive (1)\n",
      "4  C:\\Users\\Vansh\\OneDrive\\Desktop\\visual stodio\\...                test\n"
     ]
    }
   ],
   "source": [
    "import os\n",
    "import pandas as pd\n",
    "\n",
    "# Define paths\n",
    "TRAIN_DIR = r\"C:\\Users\\Vansh\\OneDrive\\Desktop\\visual stodio\\facedetector\"\n",
    "TEST_DIR = r\"C:\\Users\\Vansh\\OneDrive\\Desktop\\visual stodio\\facedetector\\train\"\n",
    "\n",
    "# Debug: Check if paths exist\n",
    "print(\"Train directory exists:\", os.path.exists(TRAIN_DIR))\n",
    "print(\"Test directory exists:\", os.path.exists(TEST_DIR))\n",
    "\n",
    "def createdataFrame(directory):\n",
    "    image_paths = []\n",
    "    labels = []\n",
    "    for label in os.listdir(directory):\n",
    "        class_dir = os.path.join(directory, label)\n",
    "        if os.path.isdir(class_dir):\n",
    "            for img in os.listdir(class_dir):\n",
    "                image_paths.append(os.path.join(class_dir, img))\n",
    "                labels.append(label)\n",
    "    return image_paths, labels\n",
    "\n",
    "# Create DataFrames\n",
    "train = pd.DataFrame()\n",
    "train['image'], train['label'] = createdataFrame(TRAIN_DIR)\n",
    "\n",
    "test = pd.DataFrame()\n",
    "test['image'], test['label'] = createdataFrame(TEST_DIR)\n",
    "\n",
    "print(train.head())"
   ]
  },
  {
   "cell_type": "code",
   "execution_count": 5,
   "id": "42fe0590-031f-4285-8261-9d1cc599d603",
   "metadata": {},
   "outputs": [
    {
     "name": "stdout",
     "output_type": "stream",
     "text": [
      "                                                   image     label\n",
      "0      C:\\Users\\Vansh\\OneDrive\\Desktop\\visual stodio\\...     angry\n",
      "1      C:\\Users\\Vansh\\OneDrive\\Desktop\\visual stodio\\...     angry\n",
      "2      C:\\Users\\Vansh\\OneDrive\\Desktop\\visual stodio\\...     angry\n",
      "3      C:\\Users\\Vansh\\OneDrive\\Desktop\\visual stodio\\...     angry\n",
      "4      C:\\Users\\Vansh\\OneDrive\\Desktop\\visual stodio\\...     angry\n",
      "...                                                  ...       ...\n",
      "28816  C:\\Users\\Vansh\\OneDrive\\Desktop\\visual stodio\\...  surprise\n",
      "28817  C:\\Users\\Vansh\\OneDrive\\Desktop\\visual stodio\\...  surprise\n",
      "28818  C:\\Users\\Vansh\\OneDrive\\Desktop\\visual stodio\\...  surprise\n",
      "28819  C:\\Users\\Vansh\\OneDrive\\Desktop\\visual stodio\\...  surprise\n",
      "28820  C:\\Users\\Vansh\\OneDrive\\Desktop\\visual stodio\\...  surprise\n",
      "\n",
      "[28821 rows x 2 columns]\n",
      "0        C:\\Users\\Vansh\\OneDrive\\Desktop\\visual stodio\\...\n",
      "1        C:\\Users\\Vansh\\OneDrive\\Desktop\\visual stodio\\...\n",
      "2        C:\\Users\\Vansh\\OneDrive\\Desktop\\visual stodio\\...\n",
      "3        C:\\Users\\Vansh\\OneDrive\\Desktop\\visual stodio\\...\n",
      "4        C:\\Users\\Vansh\\OneDrive\\Desktop\\visual stodio\\...\n",
      "                               ...                        \n",
      "28816    C:\\Users\\Vansh\\OneDrive\\Desktop\\visual stodio\\...\n",
      "28817    C:\\Users\\Vansh\\OneDrive\\Desktop\\visual stodio\\...\n",
      "28818    C:\\Users\\Vansh\\OneDrive\\Desktop\\visual stodio\\...\n",
      "28819    C:\\Users\\Vansh\\OneDrive\\Desktop\\visual stodio\\...\n",
      "28820    C:\\Users\\Vansh\\OneDrive\\Desktop\\visual stodio\\...\n",
      "Name: image, Length: 28821, dtype: object\n"
     ]
    }
   ],
   "source": [
    "print(test)\n",
    "print(test['image'])"
   ]
  },
  {
   "cell_type": "code",
   "execution_count": 6,
   "id": "d4a97d74-0e59-4cbc-ac0f-9231f0a1ec7b",
   "metadata": {},
   "outputs": [
    {
     "ename": "ImportError",
     "evalue": "IProgress not found. Please update jupyter and ipywidgets. See https://ipywidgets.readthedocs.io/en/stable/user_install.html",
     "output_type": "error",
     "traceback": [
      "\u001b[31m---------------------------------------------------------------------------\u001b[39m",
      "\u001b[31mModuleNotFoundError\u001b[39m                       Traceback (most recent call last)",
      "\u001b[36mCell\u001b[39m\u001b[36m \u001b[39m\u001b[32mIn[6]\u001b[39m\u001b[32m, line 3\u001b[39m\n\u001b[32m      1\u001b[39m \u001b[38;5;28;01mimport\u001b[39;00m\u001b[38;5;250m \u001b[39m\u001b[34;01mnumpy\u001b[39;00m\u001b[38;5;250m \u001b[39m\u001b[38;5;28;01mas\u001b[39;00m\u001b[38;5;250m \u001b[39m\u001b[34;01mnp\u001b[39;00m\n\u001b[32m      2\u001b[39m \u001b[38;5;28;01mimport\u001b[39;00m\u001b[38;5;250m \u001b[39m\u001b[34;01mpandas\u001b[39;00m\u001b[38;5;250m \u001b[39m\u001b[38;5;28;01mas\u001b[39;00m\u001b[38;5;250m \u001b[39m\u001b[34;01mpd\u001b[39;00m\n\u001b[32m----> \u001b[39m\u001b[32m3\u001b[39m \u001b[38;5;28;01mfrom\u001b[39;00m\u001b[38;5;250m \u001b[39m\u001b[34;01mtqdm\u001b[39;00m\u001b[34;01m.\u001b[39;00m\u001b[34;01mnotebook\u001b[39;00m\u001b[38;5;250m \u001b[39m\u001b[38;5;28;01mimport\u001b[39;00m tqdm\n\u001b[32m      4\u001b[39m \u001b[38;5;28;01mfrom\u001b[39;00m\u001b[38;5;250m \u001b[39m\u001b[34;01mtensorflow\u001b[39;00m\u001b[34;01m.\u001b[39;00m\u001b[34;01mkeras\u001b[39;00m\u001b[34;01m.\u001b[39;00m\u001b[34;01mutils\u001b[39;00m\u001b[38;5;250m \u001b[39m\u001b[38;5;28;01mimport\u001b[39;00m load_img\n\u001b[32m      5\u001b[39m \u001b[38;5;28;01mfrom\u001b[39;00m\u001b[38;5;250m \u001b[39m\u001b[34;01mPIL\u001b[39;00m\u001b[38;5;250m \u001b[39m\u001b[38;5;28;01mimport\u001b[39;00m Image\n",
      "\u001b[31mModuleNotFoundError\u001b[39m: No module named 'tqdm'"
     ]
    }
   ],
   "source": [
    "import numpy as np\n",
    "import pandas as pd\n",
    "from tqdm.notebook import tqdm\n",
    "from tensorflow.keras.utils import load_img\n",
    "from PIL import Image\n",
    "# Define paths and create DataFrame\n",
    "TRAIN_DIR =  r\"C:\\Users\\Vansh\\OneDrive\\Desktop\\visual stodio\\facedetector\\train\" # Replace with your path\n",
    "train = pd.DataFrame()\n",
    "train['image'], train['label'] = createdataFrame(TRAIN_DIR)  # Ensure createdataFrame is defined\n",
    "\n",
    "# Define the feature extraction function\n",
    "def extract_features(images):\n",
    "    features = []\n",
    "    for image in tqdm(images):\n",
    "        img = load_img(image, color_mode='grayscale')  # Correct parameter\n",
    "        img = np.array(img)\n",
    "        features.append(img)\n",
    "    features = np.array(features)\n",
    "    features = features.reshape(len(features), 48, 48, 1)\n",
    "    return features\n",
    "\n",
    "# Extract features\n",
    "train_features = extract_features(train['image'])"
   ]
  },
  {
   "cell_type": "code",
   "execution_count": null,
   "id": "daeb7ca8-8049-419f-825c-b704771f664a",
   "metadata": {},
   "outputs": [],
   "source": [
    "print(train)"
   ]
  },
  {
   "cell_type": "code",
   "execution_count": null,
   "id": "21b1f0a2-c88d-4923-9374-3600e9639db7",
   "metadata": {},
   "outputs": [],
   "source": [
    "test_features=extract_features(test['image'])"
   ]
  },
  {
   "cell_type": "code",
   "execution_count": null,
   "id": "b9cd06f8-563c-44bc-9404-456d17c1c06e",
   "metadata": {},
   "outputs": [],
   "source": [
    "x_train=train_features/255.0\n",
    "x_test=test_features/255.0"
   ]
  },
  {
   "cell_type": "code",
   "execution_count": null,
   "id": "5630b166-f65b-4b9b-8e9e-84865c4e8430",
   "metadata": {},
   "outputs": [],
   "source": [
    "from sklearn.preprocessing import LabelEncoder "
   ]
  },
  {
   "cell_type": "code",
   "execution_count": null,
   "id": "7c8c438e-a195-45ad-b4c6-b1d35bb9f598",
   "metadata": {},
   "outputs": [],
   "source": [
    "le = LabelEncoder()\n",
    "le.fit(train['label'])"
   ]
  },
  {
   "cell_type": "code",
   "execution_count": null,
   "id": "9226332a-031e-4de3-9003-404162968840",
   "metadata": {},
   "outputs": [],
   "source": [
    "y_train = le.transform(train['label'])\n",
    "y_test = le.transform(test['label'])\n",
    "y_train = to_categorical(y_train,num_classes = 7)\n",
    "y_test = to_categorical(y_test,num_classes = 7)"
   ]
  },
  {
   "cell_type": "code",
   "execution_count": null,
   "id": "c82ee96b-00e8-44f4-b5c2-78ac12db9c55",
   "metadata": {},
   "outputs": [],
   "source": [
    "from tensorflow.keras.models import Sequential\n",
    "from tensorflow.keras.layers import Conv2D, MaxPooling2D, Dropout, Flatten, Dense\n",
    "\n",
    "model = Sequential()\n",
    "\n",
    "# Layer 1\n",
    "model.add(Conv2D(128, kernel_size=(3,3), activation='relu', input_shape=(48,48,1)))  # Fix: \"Conv2D\", not \"Conva2D\"\n",
    "model.add(MaxPooling2D(pool_size=(2,2)))  # Fix: \"pool_size=(2,2)\"\n",
    "model.add(Dropout(0.4))\n",
    "\n",
    "# Layer 2\n",
    "model.add(Conv2D(256, kernel_size=(3,3), activation='relu'))  # Fix: Use integer 256\n",
    "model.add(MaxPooling2D(pool_size=(2,2)))\n",
    "model.add(Dropout(0.4))\n",
    "\n",
    "# Layer 3\n",
    "model.add(Conv2D(512, kernel_size=(3,3), activation='relu'))  # Fix: Use integer 512 instead of \"S12\"\n",
    "model.add(MaxPooling2D(pool_size=(2,2)))\n",
    "model.add(Dropout(0.4))\n",
    "\n",
    "# Fully Connected Layers\n",
    "model.add(Flatten())\n",
    "model.add(Dense(512, activation='relu'))  # Fix: Use integer 512 instead of \"S12\"\n",
    "model.add(Dropout(0.4))\n",
    "model.add(Dense(256, activation='relu'))\n",
    "model.add(Dropout(0.3))\n",
    "model.add(Dense(7, activation='softmax'))  # Fix: Added missing closing parenthesis"
   ]
  },
  {
   "cell_type": "code",
   "execution_count": null,
   "id": "03cdd120-8fcf-4a2d-9bc4-039830d6aa3f",
   "metadata": {},
   "outputs": [],
   "source": [
    "model.compile(optimizer ='admin', loss ='categorical_crossentropy',metrics='accuracy')\n",
    "model.fit(x=x_train,y=y_train,batch_size = 128,epochs=180,validation_data=(x_test,y_test))"
   ]
  },
  {
   "cell_type": "code",
   "execution_count": null,
   "id": "c0539707-20ca-4530-977c-92bd9f066cff",
   "metadata": {},
   "outputs": [],
   "source": [
    "# Fully Connected Layers\n",
    "model.add(Flatten())  # Capitalize \"Flatten\"\n",
    "model.add(Dense(512, activation='relu'))  # Replace \"S12\" with 512, fix \"activation\" spelling\n",
    "model.add(Dropout(0.4))\n",
    "model.add(Dense(256, activation='relu'))  # Replace \"2%\" with 256\n",
    "model.add(Dropout(0.3))\n",
    "model.add(Dense(7, activation='softmax'))  # Fix \"activation\" spelling\n",
    "\n",
    "# Compile the model\n",
    "model.compile(\n",
    "    optimizer='adam',  # Replace \"admin\" with \"adam\"\n",
    "    loss='categorical_crossentropy',\n",
    "    metrics=['accuracy']  # Metrics must be a list\n",
    ")\n",
    "\n",
    "# Train the model\n",
    "model.fit(\n",
    "    x_train,  # Replace \"kmx_train\" with \"x_train\"\n",
    "    y_train,\n",
    "    batch_size=128,\n",
    "    epochs=180,\n",
    "    validation_data=(x_test, y_test)  # Add parentheses for tuple\n",
    ")\n",
    "\n",
    "from tensorflow.keras.utils import to_categorical\n",
    "y_train = to_categorical(y_train, num_classes=7)\n",
    "y_test = to_categorical(y_test, num_classes=7)"
   ]
  },
  {
   "cell_type": "code",
   "execution_count": null,
   "id": "f9f5d03a-dc6a-40c1-a133-f6e6e285ab9b",
   "metadata": {},
   "outputs": [],
   "source": []
  },
  {
   "cell_type": "code",
   "execution_count": null,
   "id": "8e8b1fa4-bd80-4abc-abcc-4060fe323564",
   "metadata": {},
   "outputs": [],
   "source": []
  }
 ],
 "metadata": {
  "kernelspec": {
   "display_name": "Python 3 (ipykernel)",
   "language": "python",
   "name": "python3"
  },
  "language_info": {
   "codemirror_mode": {
    "name": "ipython",
    "version": 3
   },
   "file_extension": ".py",
   "mimetype": "text/x-python",
   "name": "python",
   "nbconvert_exporter": "python",
   "pygments_lexer": "ipython3",
   "version": "3.12.1"
  }
 },
 "nbformat": 4,
 "nbformat_minor": 5
}
